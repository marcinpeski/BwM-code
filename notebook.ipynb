{
 "cells": [
  {
   "cell_type": "code",
   "execution_count": 7,
   "metadata": {},
   "outputs": [],
   "source": [
    "import numpy as np\n",
    "import matplotlib.pyplot as plt\n",
    "from ipywidgets import widgets"
   ]
  },
  {
   "cell_type": "code",
   "execution_count": 11,
   "metadata": {},
   "outputs": [],
   "source": [
    "def plot_sin(alpha, d):\n",
    "    x = np.linspace(-10, 10, 400)\n",
    "    y_sin = np.sin(alpha * x + d)\n",
    "    y_cos = np.cos(alpha * x + d)\n",
    "\n",
    "    plt.figure(figsize=(20, 4))\n",
    "\n",
    "    # Sine plot\n",
    "    plt.subplot(1, 2, 1)  # 1 row, 2 columns, 1st subplot\n",
    "    plt.plot(x, y_sin)\n",
    "    plt.title(f\"Graph of sin({alpha} * x + {d})\")\n",
    "    plt.xlabel('x')\n",
    "    plt.ylabel('sin(α * x + d)')\n",
    "    plt.grid(True)\n",
    "\n",
    "    # Cosine plot\n",
    "    plt.subplot(1, 2, 2)  # 1 row, 2 columns, 2nd subplot\n",
    "    plt.plot(x, y_cos)\n",
    "    plt.title(f\"Graph of cos({alpha} * x + {d})\")\n",
    "    plt.xlabel('x')\n",
    "    plt.ylabel('cos(α * x + d)')\n",
    "    plt.grid(True)\n",
    "\n",
    "    plt.show()"
   ]
  },
  {
   "cell_type": "code",
   "execution_count": 12,
   "metadata": {},
   "outputs": [
    {
     "data": {
      "application/vnd.jupyter.widget-view+json": {
       "model_id": "8663d39886c046ecb7ea770b0fce2ecd",
       "version_major": 2,
       "version_minor": 0
      },
      "text/plain": [
       "HBox(children=(FloatSlider(value=1.0, description='Alpha:', max=5.0, min=0.1), FloatSlider(value=0.0, descript…"
      ]
     },
     "metadata": {},
     "output_type": "display_data"
    },
    {
     "data": {
      "application/vnd.jupyter.widget-view+json": {
       "model_id": "e158cce1b1004127ac4822b2c896651f",
       "version_major": 2,
       "version_minor": 0
      },
      "text/plain": [
       "Output()"
      ]
     },
     "metadata": {},
     "output_type": "display_data"
    }
   ],
   "source": [
    "# Slider widgets\n",
    "alpha_slider = widgets.FloatSlider(value=1.0, min=0.1, max=5.0, step=0.1, description='Alpha:')\n",
    "d_slider = widgets.FloatSlider(value=0, min=0, max=2*np.pi, step=0.1, description='d:')\n",
    "\n",
    "# Using interact but with custom widget layout\n",
    "ui = widgets.HBox([alpha_slider, d_slider])\n",
    "out = widgets.interactive_output(plot_sin, {'alpha': alpha_slider, 'd': d_slider})\n",
    "\n",
    "# Display layout\n",
    "display(ui, out)"
   ]
  }
 ],
 "metadata": {
  "kernelspec": {
   "display_name": "Python 3",
   "language": "python",
   "name": "python3"
  },
  "language_info": {
   "codemirror_mode": {
    "name": "ipython",
    "version": 3
   },
   "file_extension": ".py",
   "mimetype": "text/x-python",
   "name": "python",
   "nbconvert_exporter": "python",
   "pygments_lexer": "ipython3",
   "version": "3.9.7"
  }
 },
 "nbformat": 4,
 "nbformat_minor": 2
}
