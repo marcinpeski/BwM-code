{
 "cells": [
  {
   "cell_type": "code",
   "execution_count": 102,
   "metadata": {},
   "outputs": [],
   "source": [
    "import numpy as np\n",
    "import matplotlib.pyplot as plt\n",
    "import matplotlib.patches as patches\n",
    "from ipywidgets import widgets"
   ]
  },
  {
   "cell_type": "markdown",
   "metadata": {},
   "source": [
    "Parameters:"
   ]
  },
  {
   "cell_type": "code",
   "execution_count": 103,
   "metadata": {},
   "outputs": [],
   "source": [
    "l1 = 0\n",
    "h1 = 2\n",
    "l2 = 1\n",
    "h2 = 3\n",
    "\n",
    "beta = 0.5"
   ]
  },
  {
   "cell_type": "markdown",
   "metadata": {},
   "source": [
    "Computations and functions:"
   ]
  },
  {
   "cell_type": "code",
   "execution_count": 107,
   "metadata": {},
   "outputs": [],
   "source": [
    "frontier = 'empty'\n",
    "\n",
    "p2_star = (l2-l1)/(h2-l1)\n",
    "p2_star_star = (l2-l1)/(h2-l2)\n",
    "\n",
    "p1_star = {'l2<h1':{'a1':beta/(beta + (1-beta)*(h2-h1)/(h2-l1)), 'a2':beta/(beta + (1-beta)*(h2-h1)/(h2-l2))}, \\\n",
    "        'l2>h1':{'a1':0, 'a2':1}}\n",
    "Delta = beta *(1-beta) *(h2-h1) *(h2-l2) /(h2-l1) /(h2-beta*l2-(1-beta)*h1)\n",
    "\n",
    "def Ml1(p2):\n",
    "    return beta*max(l2, (1-p2)*l1 + p2*h2)\n",
    "\n",
    "def Mh1(p2):\n",
    "    return beta*max(l2, (1-p2)*h1 + p2*h2)\n",
    "\n",
    "def Ml2(p1):\n",
    "    return (1-beta)*max(l2, (1-p1)*l2 + p1*h1)\n",
    "\n",
    "def Mh2(p1):\n",
    "    return (1-beta)*h2\n",
    "\n",
    "def payoffs1(p1, p2, allocation, h_share):\n",
    "    Welfare = (1-p1)*(1-p2)*(l2 + allocation['l1']['l2']*(l1-l2)) \n",
    "    Welfare += (1-p1)*p2*(h2 + allocation['l1']['h2']*(l1-h2)) \n",
    "    Welfare += p1*(1-p2)*(l2 + allocation['h1']['l2']*(h1-l2)) \n",
    "    Welfare += p1*p2*(h2 + allocation['h1']['h2']*(h1-h2))\n",
    "    ql2 = (1-p1)*(1-allocation['l1']['l2']) + p1*(1-allocation['h1']['l2'])\n",
    "    L2 = Ml2(p1)\n",
    "    H2 = max(Mh2(p1), L2 + ql2*(h2-l2))\n",
    "    Welfare1 = Welfare - (1-p2)*L2 - p2*H2\n",
    "    if h_share == 0:\n",
    "        ql1 = (1-p2)*allocation['l1']['l2'] + p2*allocation['l1']['h2']\n",
    "        L1 = Welfare1 - p1*ql1*(h1-l1)\n",
    "        H1 = L1 + ql1*(h1-l1)\n",
    "    else: \n",
    "        qh1 = (1-p2)*allocation['h1']['l2'] + p2*allocation['h1']['h2']\n",
    "        L1 = Welfare1 - p1 * qh1 * (h1-l1)\n",
    "        H1 = L1 + qh1*(h1-l1)\n",
    "        \n",
    "    return [L1, H1, L2, H2, Welfare]\n",
    "\n",
    "def payoffs2(p1, p2, allocation, h_share):\n",
    "    Welfare = (1-p1)*(1-p2)*(l2 + allocation['l1']['l2']*(l1-l2)) \n",
    "    Welfare += (1-p1)*p2*(h2 + allocation['l1']['h2']*(l1-h2)) \n",
    "    Welfare += p1*(1-p2)*(l2 + allocation['h1']['l2']*(h1-l2)) \n",
    "    Welfare += p1*p2*(h2 + allocation['h1']['h2']*(h1-h2))\n",
    "    ql1 = (1-p2)*allocation['l1']['l2'] + p2*allocation['l1']['h2']\n",
    "    qh1 = (1-p2)*allocation['h1']['l2'] + p2*allocation['h1']['h2']\n",
    "    ql2 = (1-p1)*(1-allocation['l1']['l2']) + p1*(1-allocation['h1']['l2'])\n",
    "    qh2 = (1-p1)*(1-allocation['l1']['h2']) + p1*(1-allocation['h1']['h2'])\n",
    "    L1 = Ml1(p2)\n",
    "    H1 = Mh1(p2)\n",
    "    Welfare2 = Welfare - (1-p1)*L1 - p1*H1\n",
    "    if h_share == 0:\n",
    "        L2 = Welfare2 - p2 * ql2 * (h2-l2)\n",
    "        H2 = L2 + ql2 * (h2-l2)\n",
    "    else: \n",
    "        L2 = Welfare2 - p2 * qh2 * (h2-l2)\n",
    "        H2 = L2 + qh2 * (h2-l2)\n",
    "        \n",
    "    return [L2, H2, L1, H1, Welfare]\n",
    "\n",
    "def line_intersection(line1, line2):\n",
    "    xdiff = np.array([line1[0][0] - line1[1][0], line2[0][0] - line2[1][0]])\n",
    "    ydiff = np.array([line1[0][1] - line1[1][1], line2[0][1] - line2[1][1]])\n",
    "\n",
    "    def det(a, b):\n",
    "        return a[0] * b[1] - a[1] * b[0]\n",
    "\n",
    "    div = det(xdiff, ydiff)\n",
    "    if div == 0:\n",
    "        raise Exception('Lines do not intersect')\n",
    "\n",
    "    d = (det(*line1), det(*line2))\n",
    "    x0 = det(d, xdiff) / div\n",
    "    x1 = det(d, ydiff) / div\n",
    "    return [x0, x1]"
   ]
  },
  {
   "cell_type": "markdown",
   "metadata": {},
   "source": [
    "Plot module"
   ]
  },
  {
   "cell_type": "code",
   "execution_count": 110,
   "metadata": {},
   "outputs": [],
   "source": [
    "def plot_mechanism(p1, p2, mechanism='a2', case = 'l2<h1'):\n",
    "\n",
    "    global frontier\n",
    "\n",
    "    p1star = p1_star[case][mechanism]\n",
    "    p2star = p2_star\n",
    "\n",
    "    if abs(p1-p1star)<0.03:\n",
    "        p1 = p1star\n",
    "    if abs(p2-p2star)<0.03:\n",
    "        p2 = p2star\n",
    "    \n",
    "    plt.figure(figsize=(12,5))\n",
    "\n",
    "    # Sine plot\n",
    "    plt.subplot(1, 2, 1)  # 1 row, 2 columns, 1st subplot\n",
    "    ax = plt.gca()  # Get current axes\n",
    "    square = patches.Rectangle((0, 0), 1, 1, fill=False)\n",
    "    ax.add_patch(square)\n",
    "    if mechanism == 'a2':\n",
    "        plt.axvline(x=p1star, color='grey', linestyle='-')\n",
    "        plt.plot([0, p1star], [p2star, p2star], color='grey', linestyle='-')\n",
    "    else:\n",
    "        plt.plot([p1star, p1star], [1, p2star], color='grey', linestyle='-')\n",
    "        plt.plot([0, 1], [p2star, p2star], color='grey', linestyle='-')\n",
    "    plt.text(-0.05, p2star, '$p^{*}_2$', horizontalalignment='center', verticalalignment='center')\n",
    "    plt.axvline(x=p1, color='grey', linestyle='--')\n",
    "    plt.axhline(y=p2, color='grey', linestyle='--')\n",
    "    plt.plot(p1, p2, marker='o', color='blue')\n",
    "    plt.title(f\"Belief space\")\n",
    "    plt.xlim(0, 1)  # Limit x-axis from 0 to 1\n",
    "    plt.ylim(0, 1)  # Limit y-axis from 0 to 1\n",
    "\n",
    "    plt.subplot(1, 2, 2)  # 1 row, 2 columns, 2nd subplot\n",
    "    big_gap = 0.05\n",
    "    gap = 0.02\n",
    "    plt.title(f\"Payoffs in mechanism {mechanism}\")\n",
    "    # Remove tick markks and axis\n",
    "    ax = plt.gca()  # Get current axes\n",
    "    ax.axis('off')\n",
    "    \n",
    "    #Draw axis lines\n",
    "    if mechanism == 'a2':\n",
    "        L0 = Ml1(p2)\n",
    "        H0 = Mh1(p2)\n",
    "        LMax = L0 + Delta/(1-p1star)\n",
    "        HMax = H0 + Delta/p1star\n",
    "        Llabel = '$\\\\beta M_1(l_1|p_2)$'\n",
    "        Hlabel = '$\\\\beta M_1(h_1|p_2)$'\n",
    "        title = f\"Player 1 payoffs\"\n",
    "    else:\n",
    "        L0 = Ml2(p1)\n",
    "        H0 = Mh2(p1)\n",
    "        LMax = L0 + Delta/(1-p2star)\n",
    "        HMax = H0 + Delta/p2star\n",
    "        Llabel = '$(1-\\\\beta) M_2(l_2|p_1)$'\n",
    "        Hlabel = '$(1-\\\\beta) M_2(h_2|p_1)$'\n",
    "        title = f\"Player 2 payoffs\"\n",
    "    plt.plot([L0, LMax], [H0, H0], color='black', linestyle='-')\n",
    "    plt.plot([L0, L0], [H0, HMax], color='black', linestyle='-')\n",
    "\n",
    "    plt.text(L0-gap, H0, Llabel, horizontalalignment='right', verticalalignment='center')\n",
    "    \n",
    "    plt.text(L0, H0-gap, Hlabel, horizontalalignment='center', verticalalignment='center')\n",
    "    \n",
    "    #Draw the Pareto frontier\n",
    "    if frontier != 'empty':\n",
    "        plt.plot(frontier[0], frontier[1], color='lightgrey', linestyle=':')\n",
    "    if mechanism == 'a2':\n",
    "        if p2>p2star:\n",
    "            share = max(beta*(1-(1-p1star)/p1star*p1/(1-p1)), 0)\n",
    "        else:\n",
    "            share = 0\n",
    "        x = payoffs1(p1, p2, {'l1':{'l2':share, 'h2':0}, 'h1':{'l2':1, 'h2':0}}, 0)\n",
    "        y = payoffs1(p1, p2, {'l1':{'l2':share, 'h2':0}, 'h1':{'l2':1, 'h2':0}}, 1)\n",
    "        plt.plot([x[0], y[0]], [x[1], y[1]], color='black', linestyle='--')\n",
    "        plt.plot(x[0], x[1], marker='o', color='grey')\n",
    "        plt.plot(y[0], y[1], marker='o', color='grey')\n",
    "        line=[x, y]\n",
    "        lineX = [[L0,H0],[LMax,H0]]\n",
    "        lineY = [[L0,H0],[L0,HMax]]\n",
    "        iX = line_intersection(line, lineX)\n",
    "        iY = line_intersection(line, lineY)\n",
    "        if p1<=p1star:\n",
    "            plt.plot(iY[0], iY[1], marker='o', color='blue')\n",
    "        if p1>=p1star:\n",
    "            plt.plot(iX[0], iX[1], marker='o', color='blue')\n",
    "        if p1==p1star:\n",
    "            plt.plot([iX[0], iY[0]], [iX[1], iY[1]], color='blue', linestyle='-')\n",
    "            frontier = [[iX[0], iY[0]], [iX[1], iY[1]]]\n",
    "    else:\n",
    "        x = payoffs2(p1, p2, {'l1':{'l2':1, 'h2':0}, 'h1':{'l2':1, 'h2':0}}, 0)\n",
    "        y = payoffs2(p1, p2, {'l1':{'l2':0, 'h2':0}, 'h1':{'l2':1, 'h2':0}}, 0)\n",
    "        z = payoffs2(p1, p2, {'l1':{'l2':0, 'h2':0}, 'h1':{'l2':1, 'h2':0}}, 1)\n",
    "        plt.plot([x[0], y[0], z[0]], [x[1], y[1], z[1]], color='black', linestyle='--')\n",
    "        plt.plot(x[0], x[1], marker='o', color='grey')\n",
    "        plt.plot(y[0], y[1], marker='o', color='grey')\n",
    "        plt.plot(z[0], z[1], marker='o', color='grey')\n",
    "        lineXY=[x, y]\n",
    "        lineYZ=[y, z]\n",
    "        lineX = [[L0,H0],[LMax,H0]]\n",
    "        lineY = [[L0,H0],[L0,HMax]]\n",
    "        iX = line_intersection(lineX, lineXY)\n",
    "        iY = line_intersection(lineY, lineYZ)\n",
    "        if p2<=p2star:\n",
    "            plt.plot(iY[0], iY[1], marker='o', color='blue')\n",
    "        if p2>=p2star:\n",
    "            plt.plot(iX[0], iX[1], marker='o', color='blue')\n",
    "        if p2==p2star:\n",
    "            plt.plot([iX[0], y[0], iY[0]], [iX[1], y[1], iY[1]], color='blue', linestyle='-')\n",
    "            frontier = [[iX[0], y[0], iY[0]], [iX[1], y[1], iY[1]]]\n",
    "    \n",
    "    plt.title(title)\n",
    "\n",
    "    #Limit the plot\n",
    "    plt.xlim(L0-big_gap, LMax+big_gap)  # Limit x-axis from 0 to 1\n",
    "    plt.ylim(H0-big_gap, HMax+big_gap)  # Limit y-axis from 0 to 1\n",
    "    \n",
    "    plt.show()"
   ]
  },
  {
   "cell_type": "code",
   "execution_count": 111,
   "metadata": {},
   "outputs": [
    {
     "data": {
      "application/vnd.jupyter.widget-view+json": {
       "model_id": "03d04398d7f34a1896c6fc02b7f531e2",
       "version_major": 2,
       "version_minor": 0
      },
      "text/plain": [
       "HBox(children=(FloatSlider(value=0.3, description='p1:', layout=Layout(width='400px'), max=0.999, min=0.001, s…"
      ]
     },
     "metadata": {},
     "output_type": "display_data"
    },
    {
     "data": {
      "application/vnd.jupyter.widget-view+json": {
       "model_id": "f488ef5f0d2440a583410a5c44e11ebf",
       "version_major": 2,
       "version_minor": 0
      },
      "text/plain": [
       "Output()"
      ]
     },
     "metadata": {},
     "output_type": "display_data"
    },
    {
     "data": {
      "image/png": "[encoded data removed]",
      "text/plain": [
       "<Figure size 1200x500 with 2 Axes>"
      ]
     },
     "metadata": {},
     "output_type": "display_data"
    }
   ],
   "source": [
    "# Slider widgets\n",
    "p1_slider = widgets.FloatSlider(value=0.3, min=0.001, max=0.999, step=0.01, description='p1:', layout=widgets.Layout(width='400px'))\n",
    "p2_slider = widgets.FloatSlider(value=0.2, min=0, max=1, step=0.01, description='p2:', layout=widgets.Layout(width='400px'))\n",
    "\n",
    "mechanism_selector = widgets.RadioButtons(\n",
    "    options=['a1', 'a2'],  # Replace with your actual mechanism options\n",
    "    description='Mechanism:',\n",
    "    value = 'a1',\n",
    "    disabled=False,\n",
    "    layout=widgets.Layout(flex_flow='row')  # Set layout to horizontal\n",
    ")\n",
    "\n",
    "# Using interact but with custom widget layout\n",
    "ui = widgets.HBox([p1_slider, p2_slider, mechanism_selector])\n",
    "out = widgets.interactive_output(plot_mechanism, {'p1': p1_slider, 'p2': p2_slider, 'mechanism': mechanism_selector})\n",
    "\n",
    "# Display layout\n",
    "display(ui, out)"
   ]
  }
 ],
 "metadata": {
  "kernelspec": {
   "display_name": "Python 3",
   "language": "python",
   "name": "python3"
  },
  "language_info": {
   "codemirror_mode": {
    "name": "ipython",
    "version": 3
   },
   "file_extension": ".py",
   "mimetype": "text/x-python",
   "name": "python",
   "nbconvert_exporter": "python",
   "pygments_lexer": "ipython3",
   "version": "3.9.7"
  }
 },
 "nbformat": 4,
 "nbformat_minor": 2
}
